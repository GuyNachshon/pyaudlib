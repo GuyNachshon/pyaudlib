{
 "cells": [
  {
   "cell_type": "markdown",
   "metadata": {},
   "source": [
    "# Creating and Manipulating Datasets"
   ]
  },
  {
   "cell_type": "markdown",
   "metadata": {},
   "source": [
    "## Introduction\n",
    "\n",
    "Dataset creation and (re-)organization is the starting point of almost every data-related task. This notebook covers a few popular datasets for speech recognition, enhancement, and activity detection included in `audlib.data`. All datasets follow [PyTorch's convention](https://pytorch.org/docs/stable/_modules/torch/utils/data/dataset.html#Dataset) and therefore are compatible with its [data-loader](https://pytorch.org/docs/stable/_modules/torch/utils/data/dataloader.html#DataLoader) out-of-the-box (it will require each relevant dataset on disk, of course).\n",
    "\n",
    "Modules covered in this notebook are:\n",
    "- `audlib.data.wsj.WSJ0` for speech recognition\n",
    "- `audlib.data.wsj.RATS` for speech activity detection and enhancement"
   ]
  },
  {
   "cell_type": "markdown",
   "metadata": {},
   "source": [
    "## Creating Datasets\n",
    "We create some datasets in here to demonstrate the generic interface shared by all datasets, as well as keyword parameters that are specific to datasets for specific tasks.\n",
    "\n",
    "### Generic Interface\n",
    "A generic interface for any dataset is:\n",
    "\n",
    "```python\n",
    "DatasetX(root, train=True, filt=None, transform=None)\n",
    "```"
   ]
  },
  {
   "cell_type": "code",
   "execution_count": null,
   "metadata": {
    "scrolled": true
   },
   "outputs": [],
   "source": [
    "from audlib.data.wsj import WSJ0, ASRWSJ0\n",
    "from audlib.asr.util import PhonemeMap\n",
    "\n",
    "phonememap = PhonemeMap(\"/home/xyy/repos/pyaudlib/audlib/misc/cmudict-0.7b\")\n",
    "wsj0_train = WSJ0(\"/home/xyy/data/wsj0/\", train=True)\n",
    "print(wsj0_train)\n",
    "#wsj0_asr_train = ASRWSJ0(wsj0_train, phonememap)\n",
    "#print(wsj0_asr_train)\n",
    "wsj0_test = WSJ0(\"/home/xyy/data/wsj0/\", train=False)\n",
    "print(wsj0_test)\n",
    "#wsj0_asr_test = ASRWSJ0(wsj0_test, phonememap)\n",
    "#print(wsj0_asr_test)"
   ]
  },
  {
   "cell_type": "code",
   "execution_count": null,
   "metadata": {},
   "outputs": [],
   "source": []
  },
  {
   "cell_type": "code",
   "execution_count": null,
   "metadata": {},
   "outputs": [],
   "source": []
  },
  {
   "cell_type": "code",
   "execution_count": null,
   "metadata": {},
   "outputs": [],
   "source": []
  }
 ],
 "metadata": {
  "kernelspec": {
   "display_name": "Python 3",
   "language": "python",
   "name": "python3"
  },
  "language_info": {
   "codemirror_mode": {
    "name": "ipython",
    "version": 3
   },
   "file_extension": ".py",
   "mimetype": "text/x-python",
   "name": "python",
   "nbconvert_exporter": "python",
   "pygments_lexer": "ipython3",
   "version": "3.6.6"
  }
 },
 "nbformat": 4,
 "nbformat_minor": 2
}
