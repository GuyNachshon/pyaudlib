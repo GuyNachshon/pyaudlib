{
 "cells": [
  {
   "cell_type": "markdown",
   "metadata": {},
   "source": [
    "# Creating and Manipulating Datasets"
   ]
  },
  {
   "cell_type": "markdown",
   "metadata": {},
   "source": [
    "## Introduction\n",
    "\n",
    "Dataset creation and (re-)organization is the starting point of almost every data-related task. This notebook covers a few popular datasets for speech recognition, enhancement, and activity detection included in `audlib.data`. All datasets follow [PyTorch's convention](https://pytorch.org/docs/stable/_modules/torch/utils/data/dataset.html#Dataset) and therefore are compatible with its [data-loader](https://pytorch.org/docs/stable/_modules/torch/utils/data/dataloader.html#DataLoader) out-of-the-box (it will require each relevant dataset on disk, of course).\n",
    "\n",
    "Modules covered in this notebook are:\n",
    "- `audlib.data.wsj.WSJ0` for speech recognition\n",
    "- `audlib.data.wsj.RATS` for speech activity detection and enhancement"
   ]
  },
  {
   "cell_type": "markdown",
   "metadata": {},
   "source": [
    "## Creating Datasets\n",
    "We create some datasets in here to demonstrate the generic interface shared by all datasets, as well as keyword parameters that are specific to datasets for specific tasks.\n",
    "\n",
    "### Generic Interface\n",
    "A generic interface for any dataset is:\n",
    "\n",
    "```python\n",
    "DatasetX(root, )\n",
    "```"
   ]
  }
 ],
 "metadata": {
  "kernelspec": {
   "display_name": "Python 3",
   "language": "python",
   "name": "python3"
  },
  "language_info": {
   "codemirror_mode": {
    "name": "ipython",
    "version": 3
   },
   "file_extension": ".py",
   "mimetype": "text/x-python",
   "name": "python",
   "nbconvert_exporter": "python",
   "pygments_lexer": "ipython3",
   "version": "3.6.6"
  }
 },
 "nbformat": 4,
 "nbformat_minor": 2
}
